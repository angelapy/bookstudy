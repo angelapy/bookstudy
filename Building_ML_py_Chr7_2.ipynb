{
 "cells": [
  {
   "cell_type": "markdown",
   "metadata": {},
   "source": [
    "## 実践機械学習　第７章\n",
    "###7.3.1 テキストのサンプルデータ\n",
    "\n",
    "この前の続き。\n",
    "アメリカの決算報告書の10Kレポートからの株の推移予測。データは以下からダウンロードする必要あり。P>N問題の例。\n",
    "http://www.csie.ntu.edu.tw/~cjlin/libsvmtools/datasets/regression.html"
   ]
  },
  {
   "cell_type": "markdown",
   "metadata": {},
   "source": [
    "wget -t inf http://www.csie.ntu.edu.tw/~cjlin/libsvmtools/datasets/regression/E2006.train.bz2"
   ]
  },
  {
   "cell_type": "code",
   "execution_count": 1,
   "metadata": {
    "collapsed": true
   },
   "outputs": [],
   "source": [
    "import numpy as np\n",
    "from sklearn.metrics import mean_squared_error, r2_score\n",
    "from sklearn.datasets import load_svmlight_file\n",
    "from sklearn.linear_model import LinearRegression\n",
    "from sklearn.cross_validation import KFold"
   ]
  },
  {
   "cell_type": "code",
   "execution_count": 4,
   "metadata": {
    "collapsed": false
   },
   "outputs": [],
   "source": [
    "from sklearn.datasets import load_svmlight_file\n",
    "data,target = load_svmlight_file('E2006.train')"
   ]
  },
  {
   "cell_type": "code",
   "execution_count": 3,
   "metadata": {
    "collapsed": false
   },
   "outputs": [
    {
     "name": "stdout",
     "output_type": "stream",
     "text": [
      "Min target value: -7.89957807347\n",
      "Max target value: -0.51940952694\n",
      "Mean target value: -3.51405313669\n",
      "Std. dev. target value: 0.632278353911\n"
     ]
    }
   ],
   "source": [
    "print('Min target value: {}'.format(target.min()))\n",
    "print('Max target value: {}'.format(target.max()))\n",
    "print('Mean target value: {}'.format(target.mean()))\n",
    "print('Std. dev. target value: {}'.format(target.std()))"
   ]
  },
  {
   "cell_type": "code",
   "execution_count": 5,
   "metadata": {
    "collapsed": false
   },
   "outputs": [
    {
     "data": {
      "text/plain": [
       "<16087x150360 sparse matrix of type '<type 'numpy.float64'>'\n",
       "\twith 19971015 stored elements in Compressed Sparse Row format>"
      ]
     },
     "execution_count": 5,
     "metadata": {},
     "output_type": "execute_result"
    }
   ],
   "source": [
    "data"
   ]
  },
  {
   "cell_type": "code",
   "execution_count": 6,
   "metadata": {
    "collapsed": false
   },
   "outputs": [
    {
     "data": {
      "text/plain": [
       "array([-3.58943963, -3.52663816, -3.68987995, ..., -3.45833933,\n",
       "       -3.76274561, -3.62727649])"
      ]
     },
     "execution_count": 6,
     "metadata": {},
     "output_type": "execute_result"
    }
   ],
   "source": [
    "target"
   ]
  },
  {
   "cell_type": "code",
   "execution_count": 7,
   "metadata": {
    "collapsed": false
   },
   "outputs": [],
   "source": [
    "lr = LinearRegression(fit_intercept=True)\n",
    "lr.fit(data,target)\n",
    "p = np.array(map(lr.predict,data))"
   ]
  },
  {
   "cell_type": "code",
   "execution_count": 17,
   "metadata": {
    "collapsed": false
   },
   "outputs": [
    {
     "data": {
      "text/plain": [
       "array([-3.58958389, -3.52625643, -3.69048942, ..., -3.45815738,\n",
       "       -3.76216531, -3.62751994])"
      ]
     },
     "execution_count": 17,
     "metadata": {},
     "output_type": "execute_result"
    }
   ],
   "source": [
    "p = p.ravel()\n",
    "p"
   ]
  },
  {
   "cell_type": "code",
   "execution_count": 14,
   "metadata": {
    "collapsed": true
   },
   "outputs": [],
   "source": [
    "e = p - target\n",
    "total_sq_error = np.sum(e*e)"
   ]
  },
  {
   "cell_type": "code",
   "execution_count": 16,
   "metadata": {
    "collapsed": false
   },
   "outputs": [
    {
     "name": "stdout",
     "output_type": "stream",
     "text": [
      "0.00237866684485\n"
     ]
    }
   ],
   "source": [
    "rmse_train = np.sqrt(total_sq_error/len(p))\n",
    "print(rmse_train)"
   ]
  },
  {
   "cell_type": "markdown",
   "metadata": {},
   "source": [
    "ここでクロスバリデーションもやってみる。"
   ]
  },
  {
   "cell_type": "code",
   "execution_count": 34,
   "metadata": {
    "collapsed": false
   },
   "outputs": [
    {
     "name": "stdout",
     "output_type": "stream",
     "text": [
      "[LR] RMSE on testing (5 fold), 0.75\n",
      "[LR0] R2 on testing (5 fold), -0.43\n"
     ]
    }
   ],
   "source": [
    "kf = KFold(len(target),n_folds=5)\n",
    "pred = np.zeros_like(target)\n",
    "for train,test in kf:\n",
    "    lr.fit(data[train],target[train])\n",
    "    pred[test] = lr.predict(data[test])\n",
    "\n",
    "print('[LR] RMSE on testing (5 fold), {:.2}'.format(np.sqrt(mean_squared_error(target,pred))))\n",
    "print('[LR0] R2 on testing (5 fold), {:.2}'.format(r2_score(target,pred)))"
   ]
  },
  {
   "cell_type": "markdown",
   "metadata": {},
   "source": [
    "CVでのRMSEは随分大きくなった。これは過学習により起こっている。\n",
    "そこで、罰則項を用いたElasticNetなどを行う。"
   ]
  },
  {
   "cell_type": "code",
   "execution_count": 30,
   "metadata": {
    "collapsed": false
   },
   "outputs": [
    {
     "name": "stdout",
     "output_type": "stream",
     "text": [
      "[EN0.1] RMSE on testing (5 fold), 0.4\n",
      "[EN0.1] R2 on testing (5 fold), 0.61\n"
     ]
    }
   ],
   "source": [
    "from sklearn.linear_model import ElasticNet\n",
    "met = ElasticNet(alpha=0.1)\n",
    "\n",
    "kf = KFold(len(target),n_folds=5)\n",
    "pred = np.zeros_like(target)\n",
    "for train, test in kf:\n",
    "    met.fit(data[train],target[train])\n",
    "    pred[test] = met.predict(data[test])\n",
    "    \n",
    "print('[EN0.1] RMSE on testing (5 fold), {:.2}'.format(np.sqrt(mean_squared_error(target,pred))))\n",
    "print('[EN0.1] R2 on testing (5 fold), {:.2}'.format(r2_score(target,pred)))"
   ]
  },
  {
   "cell_type": "markdown",
   "metadata": {},
   "source": [
    "上の例では、罰則項のパラメータを自分で0.1と指定しているけど、今度は、罰則項のパラメータ推定を自動的に内部で行ってくれるElasticNetCVを使う。結構時間がかかった。"
   ]
  },
  {
   "cell_type": "code",
   "execution_count": 32,
   "metadata": {
    "collapsed": false
   },
   "outputs": [
    {
     "name": "stdout",
     "output_type": "stream",
     "text": [
      "[EN CV] RMSE on testing (5 fold), 0.37\n",
      "[EN CV] R2 on testing (5 fold), 0.65\n"
     ]
    }
   ],
   "source": [
    "from sklearn.linear_model import ElasticNetCV\n",
    "met = ElasticNetCV(fit_intercept=True,n_jobs=-1)\n",
    "kf = KFold(len(target),n_folds=5)\n",
    "for train, test in kf:\n",
    "    met.fit(data[train],target[train])\n",
    "    pred[test] = met.predict(data[test])\n",
    "\n",
    "print('[EN CV] RMSE on testing (5 fold), {:.2}'.format(np.sqrt(mean_squared_error(target,pred))))\n",
    "print('[EN CV] R2 on testing (5 fold), {:.2}'.format(r2_score(target,pred)))"
   ]
  },
  {
   "cell_type": "code",
   "execution_count": 35,
   "metadata": {
    "collapsed": false
   },
   "outputs": [],
   "source": [
    "met = ElasticNetCV(n_jobs=-1, l1_ratio=[.01,.05,.25,.5,.75,.95,.99])"
   ]
  },
  {
   "cell_type": "code",
   "execution_count": 40,
   "metadata": {
    "collapsed": false
   },
   "outputs": [
    {
     "name": "stdout",
     "output_type": "stream",
     "text": [
      "[EN CV l1_ratio] RMSE on testing (5 fold), 0.37\n",
      "[EN CV l1_ratio] R2 on testing (5 fold), 0.65\n"
     ]
    }
   ],
   "source": [
    "kf = KFold(len(target),n_folds=5)\n",
    "pred = np.zeros_like(target)\n",
    "for train, test in kf:\n",
    "    met.fit(data[train],target[train])\n",
    "    pred[test] = met.predict(data[test])\n",
    "\n",
    "print('[EN CV l1_ratio] RMSE on testing (5 fold), {:.2}'.format(np.sqrt(mean_squared_error(target,pred))))\n",
    "print('[EN CV l1_ratio] R2 on testing (5 fold), {:.2}'.format(r2_score(target,pred)))"
   ]
  },
  {
   "cell_type": "code",
   "execution_count": 53,
   "metadata": {
    "collapsed": false,
    "scrolled": true
   },
   "outputs": [
    {
     "data": {
      "text/plain": [
       "<matplotlib.figure.Figure at 0x1141b63d0>"
      ]
     },
     "metadata": {},
     "output_type": "display_data"
    },
    {
     "data": {
      "image/png": "[encoded data removed]",
      "text/plain": [
       "<matplotlib.figure.Figure at 0x1141b64d0>"
      ]
     },
     "metadata": {},
     "output_type": "display_data"
    },
    {
     "data": {
      "text/plain": [
       "<matplotlib.figure.Figure at 0x11490a550>"
      ]
     },
     "metadata": {},
     "output_type": "display_data"
    }
   ],
   "source": [
    "from matplotlib import pyplot as plt\n",
    "%matplotlib inline\n",
    "fig, ax = plt.subplots()\n",
    "y = target\n",
    "ax.scatter(y,pred,c='k')\n",
    "ax.plot([-5,1],[-5,-1],'r-',lw=2)\n",
    "ax.set_xlabel('Actual value')\n",
    "ax.set_ylabel('Predicted value')\n",
    "fig.savefig('Figure_10K_scatter_EN_l1_ratio.png')"
   ]
  },
  {
   "cell_type": "markdown",
   "metadata": {},
   "source": [
    "ちょっと大きく描いてみる。"
   ]
  },
  {
   "cell_type": "code",
   "execution_count": 81,
   "metadata": {
    "collapsed": false
   },
   "outputs": [
    {
     "data": {
      "text/plain": [
       "<matplotlib.text.Text at 0x1239f6410>"
      ]
     },
     "execution_count": 81,
     "metadata": {},
     "output_type": "execute_result"
    },
    {
     "data": {
      "image/png": "[encoded data removed]",
      "text/plain": [
       "<matplotlib.figure.Figure at 0x1239dded0>"
      ]
     },
     "metadata": {},
     "output_type": "display_data"
    }
   ],
   "source": [
    "fig =plt.figure(figsize=(16,10))\n",
    "#plt.subplots(111)\n",
    "ax = fig.add_subplot(111)\n",
    "y = target\n",
    "plt.scatter(y,pred,c='k')\n",
    "plt.plot([-5,1],[-5,-1],'r-',lw=2)\n",
    "ax.set_xlabel('Actual value')\n",
    "ax.set_ylabel('Predicted value')"
   ]
  },
  {
   "cell_type": "code",
   "execution_count": null,
   "metadata": {
    "collapsed": false
   },
   "outputs": [],
   "source": []
  },
  {
   "cell_type": "code",
   "execution_count": null,
   "metadata": {
    "collapsed": true
   },
   "outputs": [],
   "source": []
  }
 ],
 "metadata": {
  "kernelspec": {
   "display_name": "Python 2",
   "language": "python",
   "name": "python2"
  },
  "language_info": {
   "codemirror_mode": {
    "name": "ipython",
    "version": 2
   },
   "file_extension": ".py",
   "mimetype": "text/x-python",
   "name": "python",
   "nbconvert_exporter": "python",
   "pygments_lexer": "ipython2",
   "version": "2.7.5"
  }
 },
 "nbformat": 4,
 "nbformat_minor": 0
}
